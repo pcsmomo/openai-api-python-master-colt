{
 "cells": [
  {
   "cell_type": "code",
   "execution_count": 1,
   "id": "72318c0f",
   "metadata": {},
   "outputs": [],
   "source": [
    "import tiktoken"
   ]
  },
  {
   "cell_type": "code",
   "execution_count": 2,
   "id": "a43573b8",
   "metadata": {},
   "outputs": [],
   "source": [
    "enc = tiktoken.get_encoding(\"cl100k_base\")"
   ]
  },
  {
   "attachments": {},
   "cell_type": "markdown",
   "id": "2c126c3d",
   "metadata": {},
   "source": [
    "## Counting Tokens In Text"
   ]
  },
  {
   "cell_type": "code",
   "execution_count": 3,
   "id": "3517c238",
   "metadata": {},
   "outputs": [
    {
     "data": {
      "text/plain": [
       "3"
      ]
     },
     "execution_count": 3,
     "metadata": {},
     "output_type": "execute_result"
    }
   ],
   "source": [
    "len(enc.encode(\"Hello world!\"))"
   ]
  },
  {
   "cell_type": "code",
   "execution_count": 4,
   "id": "dc3c1938",
   "metadata": {},
   "outputs": [],
   "source": [
    "book_text = \"\"\"\n",
    "Mrs. Darling quivered and went to the window. It was securely fastened.\n",
    "She looked out, and the night was peppered with stars. They were\n",
    "crowding round the house, as if curious to see what was to take place\n",
    "there, but she did not notice this, nor that one or two of the smaller\n",
    "ones winked at her. Yet a nameless fear clutched at her heart and made\n",
    "her cry, “Oh, how I wish that I wasn’t going to a party to-night!”\n",
    "\n",
    "Even Michael, already half asleep, knew that she was perturbed, and he\n",
    "asked, “Can anything harm us, mother, after the night-lights are lit?”\n",
    "\n",
    "“Nothing, precious,” she said; “they are the eyes a mother leaves\n",
    "behind her to guard her children.”\n",
    "\n",
    "She went from bed to bed singing enchantments over them, and little\n",
    "Michael flung his arms round her. “Mother,” he cried, “I’m glad of\n",
    "you.” They were the last words she was to hear from him for a long\n",
    "time.\n",
    "\"\"\""
   ]
  },
  {
   "cell_type": "code",
   "execution_count": 5,
   "id": "2cac4f3e",
   "metadata": {},
   "outputs": [
    {
     "data": {
      "text/plain": [
       "224"
      ]
     },
     "execution_count": 5,
     "metadata": {},
     "output_type": "execute_result"
    }
   ],
   "source": [
    "len(enc.encode(book_text))"
   ]
  },
  {
   "cell_type": "code",
   "execution_count": 6,
   "id": "1e399f68",
   "metadata": {},
   "outputs": [],
   "source": [
    "def num_tokens_from_string(string: str, model_name: str) -> int:\n",
    "    \"\"\"Returns the number of tokens in a text string.\"\"\"\n",
    "    encoding = tiktoken.encoding_for_model(model_name)\n",
    "    num_tokens = len(encoding.encode(string))\n",
    "    return num_tokens"
   ]
  },
  {
   "cell_type": "code",
   "execution_count": 7,
   "id": "d246a5e8",
   "metadata": {},
   "outputs": [
    {
     "data": {
      "text/plain": [
       "224"
      ]
     },
     "execution_count": 7,
     "metadata": {},
     "output_type": "execute_result"
    }
   ],
   "source": [
    "num_tokens_from_string(book_text, \"gpt-3.5-turbo\")"
   ]
  },
  {
   "cell_type": "code",
   "execution_count": 8,
   "id": "d492bf80",
   "metadata": {},
   "outputs": [
    {
     "data": {
      "text/plain": [
       "253"
      ]
     },
     "execution_count": 8,
     "metadata": {},
     "output_type": "execute_result"
    }
   ],
   "source": [
    "num_tokens_from_string(book_text, \"text-davinci-003\")"
   ]
  },
  {
   "cell_type": "code",
   "execution_count": 9,
   "id": "f61760d7",
   "metadata": {},
   "outputs": [],
   "source": [
    "price_per_token = 0.002 / 1000"
   ]
  },
  {
   "cell_type": "code",
   "execution_count": 10,
   "id": "832d4cee",
   "metadata": {},
   "outputs": [
    {
     "data": {
      "text/plain": [
       "0.000448"
      ]
     },
     "execution_count": 10,
     "metadata": {},
     "output_type": "execute_result"
    }
   ],
   "source": [
    "num_tokens_from_string(book_text, \"gpt-3.5-turbo\") * price_per_token"
   ]
  }
 ],
 "metadata": {
  "kernelspec": {
   "display_name": "Python 3 (ipykernel)",
   "language": "python",
   "name": "python3"
  },
  "language_info": {
   "codemirror_mode": {
    "name": "ipython",
    "version": 3
   },
   "file_extension": ".py",
   "mimetype": "text/x-python",
   "name": "python",
   "nbconvert_exporter": "python",
   "pygments_lexer": "ipython3",
   "version": "3.11.3"
  }
 },
 "nbformat": 4,
 "nbformat_minor": 5
}
