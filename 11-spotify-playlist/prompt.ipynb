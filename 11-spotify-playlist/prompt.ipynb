{
 "cells": [
  {
   "cell_type": "code",
   "execution_count": 1,
   "id": "b61b07dd",
   "metadata": {},
   "outputs": [],
   "source": [
    "import openai\n",
    "from dotenv import dotenv_values\n",
    "config = dotenv_values(\"../.env\")\n",
    "openai.api_key = config[\"OPENAI_API_KEY\"]"
   ]
  },
  {
   "cell_type": "code",
   "execution_count": 2,
   "id": "41653981",
   "metadata": {},
   "outputs": [
    {
     "name": "stdout",
     "output_type": "stream",
     "text": [
      "Here is a playlist of super super sad songs:\n",
      "\n",
      "1. Song: \"Someone Like You\" - Artist: Adele\n",
      "2. Song: \"Fix You\" - Artist: Coldplay\n",
      "3. Song: \"Hurt\" - Artist: Johnny Cash\n",
      "4. Song: \"Everybody Hurts\" - Artist: R.E.M.\n",
      "5. Song: \"Nothing Compares 2 U\" - Artist: Sinead O'Connor\n",
      "6. Song: \"Tears in Heaven\" - Artist: Eric Clapton\n",
      "7. Song: \"Skinny Love\" - Artist: Bon Iver\n",
      "8. Song: \"Creep\" - Artist: Radiohead\n",
      "9. Song: \"Somebody That I Used to Know\" - Artist: Gotye ft. Kimbra\n",
      "10. Song: \"I Will Always Love You\" - Artist: Whitney Houston\n",
      "\n",
      "I hope you find comfort in these songs.\n"
     ]
    }
   ],
   "source": [
    "example_json = \"\"\"\n",
    "[\n",
    "    {\"song\": \"Someone Like You\", \"artist\": \"Adele\"},\n",
    "    {\"song\": \"Fix You\", \"artist\": \"Coldplay\"},\n",
    "    {\"song\": \"Hurt\", \"artist\": \"Johnny Cash\"},\n",
    "    {\"song\": \"Everybody Hurts\", \"artist\": \"R.E.M.\"},\n",
    "    {\"song\": \"Nothing Compares 2 U\", \"artist\": \"Sinead O'Connor\"},\n",
    "    {\"song\": \"Tears in Heaven\", \"artist\": \"Eric Clapton\"},\n",
    "    {\"song\": \"Skinny Love\", \"artist\": \"Bon Iver\"},\n",
    "    {\"song\": \"Creep\", \"artist\": \"Radiohead\"},\n",
    "    {\"song\": \"Somebody That I Used to Know\", \"artist\": \"Gotye ft. Kimbra\"},\n",
    "    {\"song\": \"I Will Always Love You\", \"artist\": \"Whitney Houston\"}\n",
    "]\n",
    "\"\"\"\n",
    "\n",
    "messages = [\n",
    "    {\"role\": \"system\", \n",
    "     \"content\": \"\"\"You are a helpful playlist generating assistant.\n",
    "     You should generate a list of songs and their artists acccording to a text prompt.\n",
    "     You should return a JSON array, where each element follows this format: {\"song\": <song_title>, \"artist\": <artist_name>}\"\"\"},\n",
    "     {\"role\": \"user\", \n",
    "     \"content\": \"Generate a playlist of songs based on this prompt: super super sad songs\"},\n",
    "     {\"role\": \"assistant\", \n",
    "     \"content\": example_json},\n",
    "]\n",
    "\n",
    "response = openai.ChatCompletion.create(\n",
    "    messages=messages,\n",
    "    model=\"gpt-3.5-turbo\",\n",
    "    max_tokens=400\n",
    ")\n",
    "\n",
    "print(response[\"choices\"][0][\"message\"][\"content\"])"
   ]
  },
  {
   "cell_type": "code",
   "execution_count": 3,
   "id": "a142da38",
   "metadata": {},
   "outputs": [
    {
     "name": "stdout",
     "output_type": "stream",
     "text": [
      "\n",
      "[\n",
      "    {\"song\": \"Uptown Funk\", \"artist\": \"Mark Ronson ft. Bruno Mars\"},\n",
      "    {\"song\": \"Can't Stop the Feeling!\", \"artist\": \"Justin Timberlake\"},\n",
      "    {\"song\": \"Dance Monkey\", \"artist\": \"Tones and I\"},\n",
      "    {\"song\": \"Don't Stop Me Now\", \"artist\": \"Queen\"},\n",
      "    {\"song\": \"I Wanna Dance with Somebody\", \"artist\": \"Whitney Houston\"},\n",
      "    {\"song\": \"Wake Me Up\", \"artist\": \"Avicii\"},\n",
      "    {\"song\": \"Hey Ya!\", \"artist\": \"OutKast\"},\n",
      "    {\"song\": \"Dancing Queen\", \"artist\": \"ABBA\"},\n",
      "    {\"song\": \"Shape of You\", \"artist\": \"Ed Sheeran\"},\n",
      "    {\"song\": \"Crazy in Love\", \"artist\": \"Beyoncé ft. Jay-Z\"}\n",
      "]\n"
     ]
    }
   ],
   "source": [
    "example_json = \"\"\"\n",
    "[\n",
    "    {\"song\": \"Someone Like You\", \"artist\": \"Adele\"},\n",
    "    {\"song\": \"Fix You\", \"artist\": \"Coldplay\"},\n",
    "    {\"song\": \"Hurt\", \"artist\": \"Johnny Cash\"},\n",
    "    {\"song\": \"Everybody Hurts\", \"artist\": \"R.E.M.\"},\n",
    "    {\"song\": \"Nothing Compares 2 U\", \"artist\": \"Sinead O'Connor\"},\n",
    "    {\"song\": \"Tears in Heaven\", \"artist\": \"Eric Clapton\"},\n",
    "    {\"song\": \"Skinny Love\", \"artist\": \"Bon Iver\"},\n",
    "    {\"song\": \"Creep\", \"artist\": \"Radiohead\"},\n",
    "    {\"song\": \"Somebody That I Used to Know\", \"artist\": \"Gotye ft. Kimbra\"},\n",
    "    {\"song\": \"I Will Always Love You\", \"artist\": \"Whitney Houston\"}\n",
    "]\n",
    "\"\"\"\n",
    "\n",
    "messages = [\n",
    "    {\"role\": \"system\", \"content\": \"\"\"You are a helpful playlist generating assistant.\n",
    "     You should generate a list of songs and their artists acccording to a text prompt.\n",
    "     You should return a JSON array, where each element follows this format: {\"song\": <song_title>, \"artist\": <artist_name>}\"\"\"},\n",
    "     {\"role\": \"user\", \"content\": \"Generate a playlist of songs based on this prompt: super super sad songs\"},\n",
    "     {\"role\": \"assistant\", \"content\": example_json},\n",
    "     {\"role\": \"user\", \"content\": \"Generate a playlist of songs based on this prompt: high energy exciting dance songs\"},\n",
    "]\n",
    "\n",
    "response = openai.ChatCompletion.create(\n",
    "    messages=messages,\n",
    "    model=\"gpt-3.5-turbo\",\n",
    "    max_tokens=400\n",
    ")\n",
    "\n",
    "print(response[\"choices\"][0][\"message\"][\"content\"])"
   ]
  }
 ],
 "metadata": {
  "kernelspec": {
   "display_name": "Python 3 (ipykernel)",
   "language": "python",
   "name": "python3"
  },
  "language_info": {
   "codemirror_mode": {
    "name": "ipython",
    "version": 3
   },
   "file_extension": ".py",
   "mimetype": "text/x-python",
   "name": "python",
   "nbconvert_exporter": "python",
   "pygments_lexer": "ipython3",
   "version": "3.11.3"
  }
 },
 "nbformat": 4,
 "nbformat_minor": 5
}
