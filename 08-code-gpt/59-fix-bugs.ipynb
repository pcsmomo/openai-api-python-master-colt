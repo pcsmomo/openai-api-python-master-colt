{
 "cells": [
  {
   "cell_type": "code",
   "execution_count": 1,
   "id": "fb22a1b0",
   "metadata": {},
   "outputs": [],
   "source": [
    "import openai\n",
    "from dotenv import dotenv_values"
   ]
  },
  {
   "cell_type": "code",
   "execution_count": 2,
   "id": "f7d698c6",
   "metadata": {},
   "outputs": [],
   "source": [
    "config = dotenv_values(\"../.env\")\n",
    "openai.api_key = config[\"OPENAI_API_KEY\"]"
   ]
  },
  {
   "attachments": {},
   "cell_type": "markdown",
   "id": "0f9dc508",
   "metadata": {},
   "source": [
    "### import custom package and setup path for it"
   ]
  },
  {
   "cell_type": "code",
   "execution_count": 3,
   "id": "003922e4",
   "metadata": {},
   "outputs": [],
   "source": [
    "import sys\n",
    "from pathlib import Path\n",
    "\n",
    "# in jupyter (lab / notebook), based on notebook path\n",
    "\n",
    "# print(f\"Path.cwd(): {Path.cwd()}\")\n",
    "module_path = str(Path.cwd().parents[0])\n",
    "\n",
    "if module_path not in sys.path:\n",
    "    sys.path.append(module_path)\n",
    "\n",
    "from common.usage import print_completion_token_usage"
   ]
  },
  {
   "attachments": {},
   "cell_type": "markdown",
   "id": "ac756075",
   "metadata": {},
   "source": [
    "## Asking GPT-4 To Find Bugs"
   ]
  },
  {
   "cell_type": "code",
   "execution_count": 4,
   "id": "67f7fe35",
   "metadata": {},
   "outputs": [],
   "source": [
    "code = \"\"\"\n",
    "def add_underscores(word):\n",
    "    new_word = \"_\"\n",
    "    for i in range(len(word)):\n",
    "        new_word = new_word + word[i] + \"_\"\n",
    "    return new_word\n",
    "\n",
    "phrase(\"hello\")\n",
    "print(add_underscores(phrase))\n",
    "\"\"\""
   ]
  },
  {
   "cell_type": "code",
   "execution_count": 5,
   "id": "b6178242",
   "metadata": {},
   "outputs": [
    {
     "name": "stdout",
     "output_type": "stream",
     "text": [
      "·Token usage: 368 = 71 + 297 (prompt + completion)\n",
      "There are a couple of issues with the provided code. Here's the fixed code with explanations:\n",
      "\n",
      "```\n",
      "def add_underscores(word):\n",
      "    new_word = \"_\"\n",
      "    for i in range(len(word)):\n",
      "        new_word = new_word + word[i] + \"_\"\n",
      "    return new_word\n",
      "\n",
      "# The input argument should be \"hello\", not \"phrase\"\n",
      "print(add_underscores(\"hello\"))\n",
      "\n",
      "# This line does not serve any purpose and can be removed\n",
      "# If you want to call the function with a variable, use print(add_underscores(phrase)) instead\n",
      "phrase = \"world\"\n",
      "```\n",
      "\n",
      "Explanation:\n",
      "- The `add_underscores` function takes a `word` argument and adds underscores before and after each character in the word.\n",
      "- The `new_word` variable is initialized with an underscore so that the first character of the word is preceded by an underscore.\n",
      "- The `for` loop goes through each character in the `word` string using the `range` function and adds an underscore before and after each character using string concatenation.\n",
      "- The final `new_word` string with underscores is returned by the function.\n",
      "- The `print(add_underscores(\"hello\"))` line calls the function with the input argument `\"hello\"` and prints the result to the console.\n",
      "- The `phrase = \"world\"` line assigns the string `\"world\"` to the `phrase` variable but does not serve any purpose in this code and can be removed.\n"
     ]
    }
   ],
   "source": [
    "messages = [\n",
    "    {\"role\": \"user\", \"content\": f\"Fix and explain the bug in the following python code: {code}\"}\n",
    "]\n",
    "res = openai.ChatCompletion.create(\n",
    "    messages=messages,\n",
    "    model=\"gpt-3.5-turbo\"\n",
    ")\n",
    "print_completion_token_usage(res)\n",
    "print(res[\"choices\"][0][\"message\"][\"content\"])"
   ]
  },
  {
   "cell_type": "code",
   "execution_count": 6,
   "id": "86867a43",
   "metadata": {},
   "outputs": [],
   "source": [
    "code = \"\"\"\n",
    "import Random\n",
    "a = random.randint(1, 12)\n",
    "b = random.randint(1, 12)\n",
    "for i in range(10):\n",
    "    question = \"What is \" + a + \" x \" + b + \"? \"\n",
    "    answer = input(question)\n",
    "    if answer = a*b:\n",
    "        print (Well done!)\n",
    "    else:\n",
    "        print(\"No.\")\n",
    "\"\"\""
   ]
  },
  {
   "cell_type": "code",
   "execution_count": 7,
   "id": "d502728b",
   "metadata": {},
   "outputs": [
    {
     "name": "stdout",
     "output_type": "stream",
     "text": [
      "·Token usage: 279 = 95 + 184 (prompt + completion)\n",
      "The bug is that the module name \"Random\" is capitalized incorrectly. It should be lowercase \"random\". Also, the variable name \"Random\" should be changed to \"random\" for consistency. \n",
      "\n",
      "Additionally, the variables \"a\" and \"b\" are integers, but they need to be converted to strings before concatenating with the string for the question. \n",
      "\n",
      "Lastly, the equality check in the \"if\" statement should use double equals \"==\" instead of a single equals sign \"=\".\n",
      "\n",
      "Here is the corrected code:\n",
      "\n",
      "import random\n",
      "a = random.randint(1, 12)\n",
      "b = random.randint(1, 12)\n",
      "for i in range(10):\n",
      "    question = \"What is \" + str(a) + \" x \" + str(b) + \"? \"\n",
      "    answer = input(question)\n",
      "    if answer == str(a*b):\n",
      "        print(\"Well done!\")\n",
      "    else:\n",
      "        print(\"No.\")\n"
     ]
    }
   ],
   "source": [
    "messages = [\n",
    "    {\"role\": \"user\", \"content\": f\"Fix and explain the bug in the following python code: {code}\"}\n",
    "]\n",
    "res = openai.ChatCompletion.create(\n",
    "    messages=messages,\n",
    "    model=\"gpt-3.5-turbo\"\n",
    ")\n",
    "print_completion_token_usage(res)\n",
    "print(res[\"choices\"][0][\"message\"][\"content\"])"
   ]
  }
 ],
 "metadata": {
  "kernelspec": {
   "display_name": "Python 3 (ipykernel)",
   "language": "python",
   "name": "python3"
  },
  "language_info": {
   "codemirror_mode": {
    "name": "ipython",
    "version": 3
   },
   "file_extension": ".py",
   "mimetype": "text/x-python",
   "name": "python",
   "nbconvert_exporter": "python",
   "pygments_lexer": "ipython3",
   "version": "3.11.3"
  }
 },
 "nbformat": 4,
 "nbformat_minor": 5
}
