{
 "cells": [
  {
   "cell_type": "code",
   "execution_count": 1,
   "id": "fb22a1b0",
   "metadata": {},
   "outputs": [],
   "source": [
    "import openai\n",
    "from dotenv import dotenv_values"
   ]
  },
  {
   "cell_type": "code",
   "execution_count": 2,
   "id": "f7d698c6",
   "metadata": {},
   "outputs": [],
   "source": [
    "config = dotenv_values(\"../.env\")\n",
    "openai.api_key = config[\"OPENAI_API_KEY\"]"
   ]
  },
  {
   "attachments": {},
   "cell_type": "markdown",
   "id": "0f9dc508",
   "metadata": {},
   "source": [
    "### import custom package and setup path for it"
   ]
  },
  {
   "cell_type": "code",
   "execution_count": 3,
   "id": "003922e4",
   "metadata": {},
   "outputs": [],
   "source": [
    "import sys\n",
    "from pathlib import Path\n",
    "\n",
    "# in jupyter (lab / notebook), based on notebook path\n",
    "\n",
    "# print(f\"Path.cwd(): {Path.cwd()}\")\n",
    "module_path = str(Path.cwd().parents[0])\n",
    "\n",
    "if module_path not in sys.path:\n",
    "    sys.path.append(module_path)\n",
    "\n",
    "from common.usage import print_completion_token_usage"
   ]
  },
  {
   "attachments": {},
   "cell_type": "markdown",
   "id": "ac756075",
   "metadata": {},
   "source": [
    "## Asking GPT-4 To Translate JS to Python"
   ]
  },
  {
   "cell_type": "code",
   "execution_count": 4,
   "id": "67f7fe35",
   "metadata": {},
   "outputs": [],
   "source": [
    "js = \"\"\"\n",
    "function mystery(arr) {\n",
    "  return arr.reduce(function (p, v) {\n",
    "    return ( p < v ? p : v );\n",
    "  });\n",
    "}\n",
    "\"\"\""
   ]
  },
  {
   "cell_type": "code",
   "execution_count": 5,
   "id": "b6178242",
   "metadata": {},
   "outputs": [
    {
     "name": "stdout",
     "output_type": "stream",
     "text": [
      "·Token usage: 68 = 46 + 22 (prompt + completion)\n",
      "def mystery(arr):\n",
      "    return reduce(lambda p, v: p if p < v else v, arr)\n"
     ]
    }
   ],
   "source": [
    "messages = [\n",
    "    {\"role\": \"user\", \"content\": f\"Translate the following JavaScript to Python: {js}\"}\n",
    "]\n",
    "res = openai.ChatCompletion.create(\n",
    "    messages=messages,\n",
    "    model=\"gpt-3.5-turbo\"\n",
    ")\n",
    "print_completion_token_usage(res)\n",
    "print(res[\"choices\"][0][\"message\"][\"content\"])"
   ]
  },
  {
   "cell_type": "code",
   "execution_count": 6,
   "id": "c22538a0",
   "metadata": {},
   "outputs": [],
   "source": [
    "from functools import reduce\n",
    "\n",
    "def mystery(arr):\n",
    "    return reduce(lambda p, v: p if p < v else v, arr)"
   ]
  },
  {
   "cell_type": "code",
   "execution_count": 7,
   "id": "f3de511f",
   "metadata": {},
   "outputs": [
    {
     "data": {
      "text/plain": [
       "-3"
      ]
     },
     "execution_count": 7,
     "metadata": {},
     "output_type": "execute_result"
    }
   ],
   "source": [
    "mystery([1, 324, 645, 3, 4, 6, -3])"
   ]
  },
  {
   "attachments": {},
   "cell_type": "markdown",
   "id": "cb583024",
   "metadata": {},
   "source": [
    "### 2nd example"
   ]
  },
  {
   "cell_type": "code",
   "execution_count": 8,
   "id": "4f786b29",
   "metadata": {},
   "outputs": [],
   "source": [
    "js = \"\"\"\n",
    "const mystery = (email) => {\n",
    "  const regex = /^\\S+@\\S+\\.\\S+$/;\n",
    "  return regex.test(email);\n",
    "};\n",
    "\"\"\""
   ]
  },
  {
   "cell_type": "code",
   "execution_count": 9,
   "id": "16be9f45",
   "metadata": {},
   "outputs": [
    {
     "name": "stdout",
     "output_type": "stream",
     "text": [
      "·Token usage: 80 = 46 + 34 (prompt + completion)\n",
      "def mystery(email):\n",
      "    import re\n",
      "    regex = r\"^\\S+@\\S+\\.\\S+$\"\n",
      "    return re.match(regex, email) is not None\n"
     ]
    }
   ],
   "source": [
    "messages = [\n",
    "    {\"role\": \"user\", \"content\": f\"Translate the following JavaScript to Python: {js}\"}\n",
    "]\n",
    "res = openai.ChatCompletion.create(\n",
    "    messages=messages,\n",
    "    model=\"gpt-3.5-turbo\"\n",
    ")\n",
    "print_completion_token_usage(res)\n",
    "print(res[\"choices\"][0][\"message\"][\"content\"])"
   ]
  },
  {
   "cell_type": "code",
   "execution_count": 10,
   "id": "e36bb4a0",
   "metadata": {},
   "outputs": [],
   "source": [
    "def mystery(email):\n",
    "    import re\n",
    "    regex = r\"^\\S+@\\S+\\.\\S+$\"\n",
    "    return re.match(regex, email) is not None"
   ]
  },
  {
   "cell_type": "code",
   "execution_count": 11,
   "id": "50f2008c",
   "metadata": {},
   "outputs": [
    {
     "data": {
      "text/plain": [
       "True"
      ]
     },
     "execution_count": 11,
     "metadata": {},
     "output_type": "execute_result"
    }
   ],
   "source": [
    "mystery(\"todd@gmail.com\")"
   ]
  },
  {
   "cell_type": "code",
   "execution_count": 12,
   "id": "e2996c9c",
   "metadata": {},
   "outputs": [
    {
     "data": {
      "text/plain": [
       "False"
      ]
     },
     "execution_count": 12,
     "metadata": {},
     "output_type": "execute_result"
    }
   ],
   "source": [
    "mystery(\"todd@gm a il.com\")"
   ]
  },
  {
   "attachments": {},
   "cell_type": "markdown",
   "id": "a7d9b133",
   "metadata": {},
   "source": [
    "### 3rd example"
   ]
  },
  {
   "cell_type": "code",
   "execution_count": 13,
   "id": "c5ea9edd",
   "metadata": {},
   "outputs": [],
   "source": [
    "js = \"\"\"\n",
    "const mystery = (str) => {\n",
    "  const arr = str.trim().toLowerCase().split(\" \");\n",
    "\n",
    "  for (let i = 0; i < arr.length; i++) {\n",
    "    arr[i] = arr[i].charAt(0).toUpperCase() + arr[i].slice(1);\n",
    "  }\n",
    "\n",
    "  return arr.join(\" \");\n",
    "};\n",
    "\"\"\""
   ]
  },
  {
   "cell_type": "code",
   "execution_count": 14,
   "id": "3c6eb89e",
   "metadata": {},
   "outputs": [
    {
     "name": "stdout",
     "output_type": "stream",
     "text": [
      "·Token usage: 133 = 84 + 49 (prompt + completion)\n",
      "def mystery(str):\n",
      "  arr = str.strip().lower().split(\" \")\n",
      "  \n",
      "  for i in range(len(arr)):\n",
      "    arr[i] = arr[i][0].upper() + arr[i][1:]\n",
      "\n",
      "  return \" \".join(arr)\n"
     ]
    }
   ],
   "source": [
    "messages = [\n",
    "    {\"role\": \"user\", \"content\": f\"Translate the following JavaScript to Python: {js}\"}\n",
    "]\n",
    "res = openai.ChatCompletion.create(\n",
    "    messages=messages,\n",
    "    model=\"gpt-3.5-turbo\"\n",
    ")\n",
    "print_completion_token_usage(res)\n",
    "print(res[\"choices\"][0][\"message\"][\"content\"])"
   ]
  },
  {
   "cell_type": "code",
   "execution_count": 15,
   "id": "66608ed2",
   "metadata": {},
   "outputs": [],
   "source": [
    "def mystery(str):\n",
    "  arr = str.strip().lower().split(\" \")\n",
    "  \n",
    "  for i in range(len(arr)):\n",
    "    arr[i] = arr[i][0].upper() + arr[i][1:]\n",
    "\n",
    "  return \" \".join(arr)"
   ]
  },
  {
   "cell_type": "code",
   "execution_count": 16,
   "id": "870a9bee",
   "metadata": {},
   "outputs": [
    {
     "data": {
      "text/plain": [
       "'I Like To Eat Chicken'"
      ]
     },
     "execution_count": 16,
     "metadata": {},
     "output_type": "execute_result"
    }
   ],
   "source": [
    "mystery(\"i like to eat chicken\")"
   ]
  }
 ],
 "metadata": {
  "kernelspec": {
   "display_name": "Python 3 (ipykernel)",
   "language": "python",
   "name": "python3"
  },
  "language_info": {
   "codemirror_mode": {
    "name": "ipython",
    "version": 3
   },
   "file_extension": ".py",
   "mimetype": "text/x-python",
   "name": "python",
   "nbconvert_exporter": "python",
   "pygments_lexer": "ipython3",
   "version": "3.11.3"
  }
 },
 "nbformat": 4,
 "nbformat_minor": 5
}
