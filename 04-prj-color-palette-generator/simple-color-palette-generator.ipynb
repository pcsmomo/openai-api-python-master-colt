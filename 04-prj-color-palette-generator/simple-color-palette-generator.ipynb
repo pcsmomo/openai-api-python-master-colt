{
 "cells": [
  {
   "cell_type": "code",
   "execution_count": 1,
   "id": "fb22a1b0",
   "metadata": {},
   "outputs": [],
   "source": [
    "import openai\n",
    "from dotenv import dotenv_values"
   ]
  },
  {
   "cell_type": "code",
   "execution_count": 2,
   "id": "f7d698c6",
   "metadata": {},
   "outputs": [],
   "source": [
    "config = dotenv_values(\"../.env\")\n",
    "openai.api_key = config[\"OPENAI_API_KEY\"]"
   ]
  },
  {
   "cell_type": "markdown",
   "id": "74471c06",
   "metadata": {},
   "source": [
    "### import custom package and setup path for it"
   ]
  },
  {
   "cell_type": "code",
   "execution_count": 3,
   "id": "6ecd3797",
   "metadata": {},
   "outputs": [],
   "source": [
    "import sys\n",
    "from pathlib import Path\n",
    "\n",
    "# in jupyter (lab / notebook), based on notebook path\n",
    "\n",
    "# print(f\"Path.cwd(): {Path.cwd()}\")\n",
    "module_path = str(Path.cwd().parents[0])\n",
    "\n",
    "if module_path not in sys.path:\n",
    "    sys.path.append(module_path)\n",
    "\n",
    "from common.usage import print_completion_token_usage"
   ]
  },
  {
   "cell_type": "code",
   "execution_count": 4,
   "id": "79905a2f",
   "metadata": {},
   "outputs": [],
   "source": [
    "from IPython.display import Markdown, display\n",
    "\n",
    "def display_colors(colors):\n",
    "    display(Markdown(\" \".join(\n",
    "        f\"<span style='color: {color}'>{chr(9608) * 4}</span>\"\n",
    "        for color in colors\n",
    "    )))"
   ]
  },
  {
   "cell_type": "code",
   "execution_count": 5,
   "id": "a20ddd19",
   "metadata": {},
   "outputs": [],
   "source": [
    "import json\n",
    "\n",
    "def get_and_render_colors(msg):\n",
    "    prompt = f\"\"\"\n",
    "    You are a color palette generating assistant that responds to text prompts for color palettes\n",
    "    Your should generate color palettes that fit the theme, mood, or instructions in the prompt.\n",
    "    The palettes should be between 2 and 8 colors.\n",
    "\n",
    "    Q: Convert the following verbal description of a color palette into a list of colors: The Mediterranean Sea\n",
    "    A: [\"#006699\", \"#66CCCC\", \"#F0E68C\", \"#008000\", \"#F08080\"]\n",
    "\n",
    "    Q: Convert the following verbal description of a color palette into a list of colors: sage, nature, earth\n",
    "    A: [\"#EDF1D6\", \"#9DC08B\", \"#609966\", \"#40513B\"]\n",
    "\n",
    "\n",
    "    Desired Format: a JSON array of hexadecimal color codes\n",
    "\n",
    "    Q: Convert the following verbal description of a color palette into a list of colors: {msg} \n",
    "    A:\n",
    "    \"\"\"\n",
    "\n",
    "    response = openai.Completion.create(\n",
    "        prompt=prompt,\n",
    "        model=\"text-davinci-003\",\n",
    "        max_tokens=200,\n",
    "    )\n",
    "\n",
    "    print_completion_token_usage(response)\n",
    "    colors = json.loads(response[\"choices\"][0][\"text\"])\n",
    "    display_colors(colors)"
   ]
  },
  {
   "cell_type": "code",
   "execution_count": 6,
   "id": "7ea988e7",
   "metadata": {},
   "outputs": [
    {
     "name": "stdout",
     "output_type": "stream",
     "text": [
      "·Token usage: 231 = 204 + 27 (prompt + completion)\n"
     ]
    },
    {
     "data": {
      "text/markdown": [
       "<span style='color: #4285F4'>████</span> <span style='color: #0F9D58'>████</span> <span style='color: #DB4437'>████</span> <span style='color: #F4B400'>████</span>"
      ],
      "text/plain": [
       "<IPython.core.display.Markdown object>"
      ]
     },
     "metadata": {},
     "output_type": "display_data"
    }
   ],
   "source": [
    "get_and_render_colors(\"4 Google brand colors\")"
   ]
  },
  {
   "cell_type": "code",
   "execution_count": 7,
   "id": "c945a69c",
   "metadata": {},
   "outputs": [
    {
     "name": "stdout",
     "output_type": "stream",
     "text": [
      "·Token usage: 237 = 203 + 34 (prompt + completion)\n"
     ]
    },
    {
     "data": {
      "text/markdown": [
       "<span style='color: #8B4513'>████</span> <span style='color: #FBCE91'>████</span> <span style='color: #A52A2A'>████</span> <span style='color: #CCB86F'>████</span> <span style='color: #FF7F50'>████</span>"
      ],
      "text/plain": [
       "<IPython.core.display.Markdown object>"
      ]
     },
     "metadata": {},
     "output_type": "display_data"
    }
   ],
   "source": [
    "get_and_render_colors(\"Thanksgiving color palette\")"
   ]
  }
 ],
 "metadata": {
  "kernelspec": {
   "display_name": "Python 3 (ipykernel)",
   "language": "python",
   "name": "python3"
  },
  "language_info": {
   "codemirror_mode": {
    "name": "ipython",
    "version": 3
   },
   "file_extension": ".py",
   "mimetype": "text/x-python",
   "name": "python",
   "nbconvert_exporter": "python",
   "pygments_lexer": "ipython3",
   "version": "3.11.3"
  }
 },
 "nbformat": 4,
 "nbformat_minor": 5
}
