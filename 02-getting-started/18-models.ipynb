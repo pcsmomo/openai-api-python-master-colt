{
 "cells": [
  {
   "cell_type": "code",
   "execution_count": 1,
   "id": "d4b26d4d",
   "metadata": {},
   "outputs": [],
   "source": [
    "import openai\n",
    "from dotenv import dotenv_values"
   ]
  },
  {
   "cell_type": "code",
   "execution_count": 2,
   "id": "8c27b4ab",
   "metadata": {},
   "outputs": [],
   "source": [
    "config = dotenv_values(\"../.env\")\n",
    "openai.api_key = config[\"OPENAI_API_KEY\"]"
   ]
  },
  {
   "cell_type": "code",
   "execution_count": 3,
   "id": "93183d81",
   "metadata": {},
   "outputs": [
    {
     "name": "stdout",
     "output_type": "stream",
     "text": [
      "\n",
      "\n",
      "Hi,\n",
      "\n",
      "I'm sorry to hear that. It sounds like you're feeling down and you want to know if you might be able to do something to help.?:)\n",
      "\n",
      "etrical\n",
      "\n",
      " sankity\n"
     ]
    }
   ],
   "source": [
    "response = openai.Completion.create(\n",
    "    prompt=\"I'm sad. Make me happy please.\",\n",
    "    model=\"text-ada-001\",\n",
    "    max_tokens=100\n",
    ")\n",
    "print(response[\"choices\"][0][\"text\"])"
   ]
  },
  {
   "cell_type": "code",
   "execution_count": 4,
   "id": "e0c9fd03",
   "metadata": {},
   "outputs": [
    {
     "name": "stdout",
     "output_type": "stream",
     "text": [
      "\n",
      "\n",
      "If you want to make me happy, you need to do something that makes me happy. Something that makes me feel warm and comfortable around you, something that makes me feel loved. Please do something that makes me happy.\n"
     ]
    }
   ],
   "source": [
    "response = openai.Completion.create(\n",
    "    prompt=\"I'm sad. Make me happy please.\",\n",
    "    model=\"text-babbage-001\",\n",
    "    max_tokens=100\n",
    ")\n",
    "print(response[\"choices\"][0][\"text\"])"
   ]
  },
  {
   "cell_type": "code",
   "execution_count": 5,
   "id": "2230316c",
   "metadata": {},
   "outputs": [
    {
     "name": "stdout",
     "output_type": "stream",
     "text": [
      "\n",
      "\n",
      "1. Surprise me with something unexpected.\n",
      "2. Make me feel important.\n",
      "3. Spend time with me.\n"
     ]
    }
   ],
   "source": [
    "response = openai.Completion.create(\n",
    "    prompt=\"I'm sad. Make me happy please.\",\n",
    "    model=\"text-curie-001\",\n",
    "    max_tokens=100\n",
    ")\n",
    "print(response[\"choices\"][0][\"text\"])"
   ]
  },
  {
   "cell_type": "code",
   "execution_count": 6,
   "id": "db319369",
   "metadata": {},
   "outputs": [
    {
     "name": "stdout",
     "output_type": "stream",
     "text": [
      "\n",
      "\n",
      "I'm sorry to hear that you're sad. Here are some things that might make you happy: spending time with friends or loved ones, doing something you enjoy, or making someone else happy.\n"
     ]
    }
   ],
   "source": [
    "response = openai.Completion.create(\n",
    "    prompt=\"I'm sad. Make me happy please.\",\n",
    "    model=\"text-davinci-002\",\n",
    "    max_tokens=100\n",
    ")\n",
    "print(response[\"choices\"][0][\"text\"])"
   ]
  },
  {
   "cell_type": "code",
   "execution_count": 7,
   "id": "f1256352",
   "metadata": {},
   "outputs": [
    {
     "name": "stdout",
     "output_type": "stream",
     "text": [
      "\n",
      "\n",
      "I'm glad to hear you say that! Try thinking about some happy memories, or things that make you laugh. Spend time with friends and family that make you feel supported and loved. Vacations, exercise, music, and going on nature walks can all be great mood boosters too.\n"
     ]
    }
   ],
   "source": [
    "response = openai.Completion.create(\n",
    "    prompt=\"I'm sad. Make me happy please.\",\n",
    "    model=\"text-davinci-003\",\n",
    "    max_tokens=100\n",
    ")\n",
    "print(response[\"choices\"][0][\"text\"])"
   ]
  }
 ],
 "metadata": {
  "kernelspec": {
   "display_name": "Python 3",
   "language": "python",
   "name": "python3"
  },
  "language_info": {
   "codemirror_mode": {
    "name": "ipython",
    "version": 3
   },
   "file_extension": ".py",
   "mimetype": "text/x-python",
   "name": "python",
   "nbconvert_exporter": "python",
   "pygments_lexer": "ipython3",
   "version": "3.11.3"
  }
 },
 "nbformat": 4,
 "nbformat_minor": 5
}
